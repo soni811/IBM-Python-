{
 "cells": [
  {
   "cell_type": "markdown",
   "metadata": {},
   "source": [
    "# Classes and Objects\n",
    "1. These are the two main aspects of object oriented programming.\n",
    "2. These are building blocks in Python.\n",
    "3. Class creates a new type and object is an instance of the class. \n",
    "4. Class – A blueprint for creating new object. \n",
    "5. A class defines the attributes and behaviors of an object. The attributes are data members (instance and class variables). \n",
    "6. The behavior is represented by methods(or member functions)\n",
    "## Defining a Class\n",
    "### Syntax\n",
    "class class_name:\n",
    "   <statement-1>\n",
    "   <statement-2>\n",
    "        .\n",
    "        .\n",
    "        .\n",
    "        .\n",
    "   <statement n>\n",
    "       \n",
    "1. Keyword class followed by the class_name and a colon(:)\n",
    "2. Variables defined in class are called as Class Variable. \n",
    "3. Functions defiend in the class are called as class methods.\n",
    "4. Class variables and Class methods together are known as class members.\n",
    "\n",
    "# Class Variable  \n",
    "1. This is a variable that is shared by all objects created from the class. \n",
    "2. You define class variables inside the class but outside any of the methods. "
   ]
  },
  {
   "cell_type": "markdown",
   "metadata": {},
   "source": [
    "# Creating an object\n",
    "1. Once a class is defiend the next step is to create an object (or instance) of that class. \n",
    "2. The object can then acccess class variables and class methods using the dot(.) operator. \n",
    "3. The syntax to create an object is given as,\n",
    "object_name=class_name()\n",
    "\n",
    "4. Creating an object or instance of class is known as class instantiation.\n",
    "5. The syntax to access a class member through the class object is\n",
    "object_name.class_member_name"
   ]
  },
  {
   "cell_type": "code",
   "execution_count": 1,
   "metadata": {},
   "outputs": [
    {
     "name": "stdout",
     "output_type": "stream",
     "text": [
      "<class '__main__.ABC'>\n",
      "10\n"
     ]
    }
   ],
   "source": [
    "# Program to access class variable using class object\n",
    "class ABC:\n",
    "    var =10\n",
    "obj = ABC()\n",
    "print(type (obj))\n",
    "print(obj.var)\n",
    "\n",
    "# The above program, we have defined a class ABC which has a variable\n",
    "# var having value 10.\n",
    "# The object of the class is created and used to access the class \n",
    "# variable using dot operator. "
   ]
  },
  {
   "cell_type": "code",
   "execution_count": null,
   "metadata": {},
   "outputs": [],
   "source": [
    "#adding attributes to a class\n",
    "class Rectangle:\n",
    "    lenght=0 #attribute length\n",
    "    width=0 #attribute width\n",
    "R1 = Rectangle() #object of a class\n",
    "print(Rectangle.lenght) #access attribute length\n",
    "print(R1.width) #access attribute width"
   ]
  },
  {
   "cell_type": "code",
   "execution_count": null,
   "metadata": {},
   "outputs": [],
   "source": [
    "#assigning value to an attribute\n",
    "#write a program to calculate the area of a\n",
    "#rectangle by assigning the value to the attributes of a rectangle.\n",
    "class Rectangle:\n",
    "    length = 0;\n",
    "    width = 0;\n",
    "R2 = Rectangle()\n",
    "R2.length = int(input())\n",
    "R2.width = int(input())\n",
    "print(R2.length * R2.width)"
   ]
  },
  {
   "cell_type": "code",
   "execution_count": null,
   "metadata": {},
   "outputs": [],
   "source": [
    "#write a program to calculate the area of a rectangle. \n",
    "# pass length and width of the rectangle to method.\n",
    "class Rectangle1:\n",
    "    def Area_rectangle(self,length,width):\n",
    "        return length*width\n",
    "ob3 = Rectangle1()\n",
    "print(ob3.Area_rectangle(5,4))"
   ]
  },
  {
   "cell_type": "code",
   "execution_count": null,
   "metadata": {},
   "outputs": [],
   "source": [
    "#self parameter with instance variable\n",
    "class Practice:\n",
    "    x = 5\n",
    "    def show(self,x):\n",
    "        self.x=30\n",
    "        print(x)\n",
    "        print(x)\n",
    "ob = Practice()\n",
    "ob.show(50)"
   ]
  },
  {
   "cell_type": "code",
   "execution_count": 2,
   "metadata": {},
   "outputs": [
    {
     "name": "stdout",
     "output_type": "stream",
     "text": [
      "30\n",
      "15\n"
     ]
    }
   ],
   "source": [
    "#write a program to demonstrate the use of self \n",
    "#with an instance variable to solve the problem \n",
    "#of variable hiding\n",
    "class Practice:\n",
    "    x = 5 \n",
    "    def display(self,y):\n",
    "        self.y=15\n",
    "        x = 30 \n",
    "        print(x)\n",
    "        print(self.y)\n",
    "ob = Practice()\n",
    "ob.display(50)"
   ]
  },
  {
   "cell_type": "code",
   "execution_count": 3,
   "metadata": {},
   "outputs": [
    {
     "name": "stdout",
     "output_type": "stream",
     "text": [
      "in method b calling methohd a\n",
      "in method a\n",
      "i am method a\n"
     ]
    }
   ],
   "source": [
    "#self parameter with method\n",
    "#write a program with two methods. \n",
    "#call method 1 using method 2\n",
    "class Self_demo:\n",
    "    def method_a(self):\n",
    "        print('in method a')\n",
    "        print('i am method a')\n",
    "    def method_b(self):\n",
    "        print('in method b calling methohd a')\n",
    "        self.method_a() #calling method_a\n",
    "a = Self_demo()\n",
    "a.method_b() #calling method_b"
   ]
  },
  {
   "cell_type": "code",
   "execution_count": null,
   "metadata": {},
   "outputs": [],
   "source": [
    "#display class attributes and methods\n",
    "class Displaydemo:\n",
    "    def read(self):\n",
    "        name = input('enter name of student')\n",
    "        print(name)\n",
    "        age = input('enter age of student')\n",
    "        print(age)\n",
    "d2 = Displaydemo()\n",
    "d2.read()"
   ]
  },
  {
   "cell_type": "code",
   "execution_count": null,
   "metadata": {},
   "outputs": [],
   "source": [
    "class ABC():\n",
    "    var=10 #class variable\n",
    "    def display(a): # class method created\n",
    "        print(\"In class method ....\")\n",
    "obj=ABC()  #Object created to access the class variables and methods\n",
    "print(obj.var)\n",
    "obj.display()"
   ]
  },
  {
   "cell_type": "markdown",
   "metadata": {},
   "source": [
    "## The _init_() method\n",
    "1. __ __init__ __() method has special significance in Python classes. \n",
    "2. The __ __init__ __ method is automatically executed when an object of a class is created. \n",
    "3. This method is useful to initialize the variable of the class object. \n",
    "4.  __ __init__ __ is prefixed as well as suffixed by double underscore. \n",
    "5. It can be declared as, def __ __init__ __(self, [args...])\n"
   ]
  },
  {
   "cell_type": "code",
   "execution_count": null,
   "metadata": {},
   "outputs": [],
   "source": [
    "# Program illustrating __init__() method\n",
    "class ABC():\n",
    "    def __init__(s,val):\n",
    "        print(\"In class method......\")\n",
    "        #s.v=val\n",
    "        print(\"The value is:  \" ,val)\n",
    "obj =ABC(10)"
   ]
  },
  {
   "cell_type": "markdown",
   "metadata": {},
   "source": [
    "In the above program\n",
    "1. The __ __init__ __() method accepts one argument val.\n",
    "2. Like any other method the first argument has to be self. \n",
    "3. In __ __init__ __() method we define variable as self.val which has the same value as specified in the argument list.\n",
    "\n"
   ]
  },
  {
   "cell_type": "code",
   "execution_count": null,
   "metadata": {},
   "outputs": [],
   "source": [
    "'Creating an new Class'\n",
    "class Student:\n",
    "   'Common base class for all students'\n",
    "   noOfStudents = 0\n",
    "\n",
    "   def __init__(self, regno, firstname, lastname):\n",
    "      self.regno = regno\n",
    "      self.firstname = firstname\n",
    "      self.lastname = lastname\n",
    "      Student.noOfStudents += 1\n",
    "\n",
    "   def displayCount(self):\n",
    "     print(\"Total Students %d\" % Student.noOfStudents)\n",
    "\n",
    "   def printStudent(self):\n",
    "      print(\"Reg. Number: \" + self.regno, \"Name: \" + self.firstname + \" \" + self.lastname)\n"
   ]
  },
  {
   "cell_type": "markdown",
   "metadata": {},
   "source": [
    "noOfStudents:  this is a class variable. Therefore it belongs to the class. It’s value is shared by all objects created from this class. You can access it using the class name. For example, Student.noOfStudents. Also, just one copy  exist in memory.\n",
    "\n",
    "__init__ (): This is a special function. It is called a constructor. It is called when the class is instantiated.\n",
    "\n",
    "self: this refers to the current class"
   ]
  },
  {
   "cell_type": "markdown",
   "metadata": {},
   "source": [
    "# Creating Objects from a Class (Instantiation)\n",
    "1. Now that we have our class defined, we can then create objects from the class. \n",
    "2. To do this, you call the class using its name. \n",
    "3. Then you pass the arguments as defined in the __init__ function.\n",
    "\n",
    "4. For example, we create and display two student objects"
   ]
  },
  {
   "cell_type": "code",
   "execution_count": null,
   "metadata": {},
   "outputs": [],
   "source": [
    "# Class Variable and Object Variable\n",
    "class ABC():\n",
    "    class_var=0 # class variable or static variable\n",
    "    def __init__(self,var):\n",
    "        ABC.class_var+=1\n",
    "        self.var=var\n",
    "        print(\"The object value is : \" ,var)\n",
    "        print(\"The value of class variable is : \", \n",
    "              ABC.class_var)\n",
    "obj1= ABC(10)\n",
    "obj2= ABC(20)\n",
    "obj3= ABC(30)\n"
   ]
  },
  {
   "cell_type": "markdown",
   "metadata": {},
   "source": [
    "1. In the above program we have class variable class_var which is shared by all three objects of the class.\n",
    "2. It is initialized by zero and each time the object is created, the class variable is incremented by 1\n",
    "3. Since, the variable is shared by all objects, changes made to class_var by one object is reflected by other objects as well."
   ]
  },
  {
   "cell_type": "markdown",
   "metadata": {},
   "source": [
    "Now that we have our class defined, we can then create objects from the class. \n",
    "\n",
    "To do this, you call the class using its name. \n",
    "\n",
    "Then you pass the arguments as defined in the __init__ function.\n",
    "\n",
    "For example, we create and display two student objects"
   ]
  },
  {
   "cell_type": "code",
   "execution_count": 3,
   "metadata": {},
   "outputs": [
    {
     "ename": "IndentationError",
     "evalue": "unexpected indent (<ipython-input-3-ec6766b9905b>, line 5)",
     "output_type": "error",
     "traceback": [
      "\u001b[1;36m  File \u001b[1;32m\"<ipython-input-3-ec6766b9905b>\"\u001b[1;36m, line \u001b[1;32m5\u001b[0m\n\u001b[1;33m    def __init__(self, regno, firstname, lastname):\u001b[0m\n\u001b[1;37m    ^\u001b[0m\n\u001b[1;31mIndentationError\u001b[0m\u001b[1;31m:\u001b[0m unexpected indent\n"
     ]
    }
   ],
   "source": [
    "'Creating an new Class'\n",
    "class Student:\n",
    "   'Common base class for all students'\n",
    "   noOfStudents = 0\n",
    "    def __init__(self, regno, firstname, lastname):\n",
    "      self.regno = regno\n",
    "      self.firstname = firstname\n",
    "      self.lastname = lastname\n",
    "      Student.noOfStudents += 1\n",
    "\n",
    "    def displayCount(self):\n",
    "     print(\"Total Students %d\" % Student.noOfStudents)\n",
    "\n",
    "    def printStudent(self):\n",
    "      print(\"Reg. Number: \" + \n",
    "            self.regno, \"Name: \" + self.firstname + \n",
    "            \" \" + self.lastname)\n",
    "\n",
    "student1  = Student(\"001\", \"Solace\", \"Okeke\")\n",
    "student2  = Student(\"002\", \"Treasure\", \"Munonye\")\n",
    "\n",
    "student1.printStudent()\n",
    "student2.printStudent()\n",
    "\n",
    "print(\"Number of Students: %d\" %(Student.noOfStudents))"
   ]
  },
  {
   "cell_type": "code",
   "execution_count": null,
   "metadata": {},
   "outputs": [],
   "source": [
    "# Program illustrating the modification of \n",
    "#an instance variable\n",
    "class Number:\n",
    "    even=0 # default value\n",
    "    def check (self, num): # Instance variable check\n",
    "        if num%2==0:\n",
    "            self.even=1 #class variable called \n",
    "    def Even_Odd(self,num): \n",
    "        self.check(num)  # Instance variable called\n",
    "        if self.even==1:\n",
    "            print(num, \"is even\")\n",
    "        else: \n",
    "            print(num, \"is odd\")\n",
    "n=Number() #object created\n",
    "n.Even_Odd(21) # CLass Instance called\n",
    "            "
   ]
  },
  {
   "cell_type": "markdown",
   "metadata": {},
   "source": [
    "1. Here the class variable is shared by all theree objects of the class.\n",
    "2. Class variable is acessed by using the class name followed by the dot operator as the variable belong to the class.\n",
    "\n"
   ]
  },
  {
   "cell_type": "code",
   "execution_count": null,
   "metadata": {},
   "outputs": [],
   "source": [
    "# Program modifying a mutable type attribute\n",
    "class Number:\n",
    "    evens=[]\n",
    "    odds=[]\n",
    "    def __init__(self, num):\n",
    "        self.num=num\n",
    "        if num%2==0:\n",
    "            Number.evens.append(num)\n",
    "        else:\n",
    "            Number.odds.append(num)\n",
    "N1=Number(21)\n",
    "N2=Number(32)\n",
    "N3=Number(43)\n",
    "N4=Number(54)\n",
    "N5=Number(65)\n",
    "print(\"Even numbers are: \", Number.evens)\n",
    "print(\"Odd Numbers are:  \", Number.odds)\n",
    "            "
   ]
  },
  {
   "cell_type": "markdown",
   "metadata": {},
   "source": [
    "1. In the above program, we have defined two lists as class variable which are mutable types. \n",
    "2. The class varaible is being shared among all objects\n",
    "3. Any changes made by any object will be reflected in the final list."
   ]
  },
  {
   "cell_type": "markdown",
   "metadata": {},
   "source": [
    "# Destructor in Python\n",
    "The __del__() method is a known as a destructor method in Python. \n",
    "It is called when all references to the object have been deleted i.e \n",
    "when an object is garbage collected.\n",
    "Syntax of destructor declaration :\n",
    "\n",
    "def __del__(self):😂\n",
    "  body of destructor"
   ]
  },
  {
   "cell_type": "code",
   "execution_count": null,
   "metadata": {},
   "outputs": [],
   "source": [
    "# sPython program to illustrate destructor \n",
    "class Employee: \n",
    "  \n",
    "    # Initializing \n",
    "    def __init__(self): \n",
    "        print('Employee created.') \n",
    "  \n",
    "    # Deleting (Calling destructor) \n",
    "    def __del__(self): \n",
    "        print('Destructor called, Employee deleted.') \n",
    "  \n",
    "o = Employee() \n",
    "del o"
   ]
  },
  {
   "cell_type": "code",
   "execution_count": 1,
   "metadata": {},
   "outputs": [
    {
     "name": "stdout",
     "output_type": "stream",
     "text": [
      "welcome\n",
      "id of ob1 =  2502410917984\n",
      "id of ob2 =  2502410917984\n",
      "id of ob3 =  2502410917984\n",
      "destructor executed successfully\n"
     ]
    }
   ],
   "source": [
    "#destructor is not invoked unless all the aliases are deleted\n",
    "#destructor is called exactly once\n",
    "\n",
    "class demo:\n",
    "    def __init__(self):\n",
    "        print('welcome')\n",
    "    def __del__(self):\n",
    "        print('destructor executed successfully')\n",
    "ob1=demo()\n",
    "ob2=ob1\n",
    "ob3=ob1\n",
    "print('id of ob1 = ',id(ob1))\n",
    "print('id of ob2 = ',id(ob2))\n",
    "print('id of ob3 = ',id(ob3))\n",
    "del ob2  #remove refrence\n",
    "del ob1\n",
    "del ob3\n",
    "#print('id of ob1 = ',id(ob1))\n",
    "#print('id of ob2 = ',id(ob2))\n",
    "#print('id of ob3 = ',id(ob3))"
   ]
  },
  {
   "cell_type": "code",
   "execution_count": 6,
   "metadata": {},
   "outputs": [
    {
     "name": "stdout",
     "output_type": "stream",
     "text": [
      "The object value is :  10\n",
      "The value of class variable is:  1\n",
      "The object value is :  20\n",
      "The value of class variable is:  2\n",
      "The object value is :  30\n",
      "The value of class variable is:  3\n",
      "2\n",
      "Object with value 10 is going out of scope \n",
      "1\n",
      "Object with value 20 is going out of scope \n",
      "0\n",
      "Object with value 30 is going out of scope \n"
     ]
    }
   ],
   "source": [
    "# The __del__() Method()\n",
    "# __init__() method () which initiliazes the object when it is created.\n",
    "# __del__() method does the opposite work.\n",
    "# __del__() is called when the object is going out of scope.\n",
    "# This time when an object is no longer will be used and its occupied \n",
    "# resources are returned back to the system so that they can be reused \n",
    "# Program to illustrate __del__() method\n",
    "class abc():\n",
    "    class_var=0 #class variable\n",
    "    def __init__(self,var):\n",
    "        abc.class_var+=1\n",
    "        #print(abc.class_var)\n",
    "        self.var=var\n",
    "        #print(var)\n",
    "        print(\"The object value is : \", var)\n",
    "        print(\"The value of class variable is: \", abc.class_var)\n",
    "    def __del__(self):\n",
    "        abc.class_var-=1\n",
    "        print(abc.class_var)\n",
    "        print(\"Object with value %d is going out of scope \" \n",
    "              %self.var)\n",
    "obj1= abc(10)\n",
    "obj2= abc(20)\n",
    "obj3= abc(30)\n",
    "del obj1\n",
    "del obj2\n",
    "del obj3"
   ]
  },
  {
   "cell_type": "markdown",
   "metadata": {},
   "source": [
    "# Public and Private Data members\n",
    "1. PUBLIC VARIABLES: These are those variables that are defined in the class and can be accessed from anywhere in the program, using dot operator\n",
    "2. PRIVATE VARIABLES: These are those variables taht are defined in the class with a double score prefix(__). These variables can be accessed only from within the class and from nowhere outside the class."
   ]
  },
  {
   "cell_type": "code",
   "execution_count": null,
   "metadata": {},
   "outputs": [],
   "source": [
    "# Program to illustrate difference betweeen public and private class\n",
    "class abc():\n",
    "    def __init__(self,var1,var2):\n",
    "        self.var1=var1\n",
    "        self.__var2=var2\n",
    "    def display(self):\n",
    "        print(\"From class method , Var1 = \", self.var1)\n",
    "        print(\"From class method, Var2 = \", self.__var2)\n",
    "obj=abc(10,20)\n",
    "obj.display()\n",
    "print(\"From main module, Var1 = \", obj.var1)\n",
    "print(\"From main module, Var 2= \", obj.__var2)"
   ]
  },
  {
   "cell_type": "code",
   "execution_count": 7,
   "metadata": {},
   "outputs": [
    {
     "name": "stdout",
     "output_type": "stream",
     "text": [
      "asmita\n",
      "name is: asmita\n",
      "bank acc no.: 10101\n",
      "10101\n"
     ]
    }
   ],
   "source": [
    "#ACCESSIBILITY\n",
    "#To make an attribute and a method private \n",
    "#we need to add two two underscore in front of attribute and method.\n",
    "class Person:\n",
    "    def __init__(self):\n",
    "        self.name = 'asmita' #public attribute\n",
    "        self.__bankaccno = 10101 #private attribute\n",
    "    def Display(self):\n",
    "        print('name is:', self.name)\n",
    "        print('bank acc no.:', self.__bankaccno)\n",
    "P = Person()\n",
    "print(P.name)\n",
    "P.Display()\n",
    "#print(P.__bankaccno)\n",
    "print(P._Person__bankaccno)\n",
    "#P.Display"
   ]
  },
  {
   "cell_type": "markdown",
   "metadata": {},
   "source": [
    "# Sample Program \n",
    "1. Write a program that uses class to store the name and marks of students. \n",
    "Use list to store the marks in three subjects\n",
    "2. Write program with class employee that keeps a track of the number of employees in an organization and also stores their names and designation\n",
    "3. Write a program to deposit or withdraw money from a bank account\n",
    "4. Write a menu driven program that keeps record of books amd journals available in a library."
   ]
  },
  {
   "cell_type": "code",
   "execution_count": null,
   "metadata": {},
   "outputs": [],
   "source": [
    "#1. Write a program that uses class to store the name\n",
    "#and marks of students. \n",
    "# Use list to store the marks in three subjects\n",
    "class Students:\n",
    "    def __init__(self, name):\n",
    "        self.name=name\n",
    "        self.marks=[]\n",
    "    def enterMarks(self):\n",
    "        for i in range (3):\n",
    "            m= int(input\n",
    "            (\"Enter the marks of %s in subject %d: \" \n",
    "             %(self.name, i+1)))\n",
    "            self.marks.append(m)\n",
    "    def display(self):\n",
    "        print(self.name,\" got \",self.marks )\n",
    "s1=Students(\"Anisha\")\n",
    "s1.enterMarks()\n",
    "s2=Students(\"Jignesh\")\n",
    "s2.enterMarks()\n",
    "s1.display()\n",
    "s2.display()\n",
    "        "
   ]
  },
  {
   "cell_type": "code",
   "execution_count": null,
   "metadata": {},
   "outputs": [],
   "source": [
    "#2. Write program with class employee that keeps a \n",
    "#track of the number of employees \n",
    "# in an organization and also stores their names \n",
    "#and designation\n"
   ]
  },
  {
   "cell_type": "code",
   "execution_count": null,
   "metadata": {},
   "outputs": [],
   "source": [
    "# 3. Write a program to deposit or withdraw money from a bank account\n",
    "class Account:\n",
    "    def __init__(self):\n",
    "        self.balance=0\n",
    "        print(\"New account created. \")\n",
    "    def deposit(self):\n",
    "        amount=float(input(\"Enter the amount to be deposited :  \"))\n",
    "        self.balance+=amount\n",
    "        print(\"New balance: %f\" %self.balance)\n",
    "    def withdraw(self):\n",
    "        amount=float(input(\"Enter the amount to be withdrawn:  \"))\n",
    "        if(amount>self.balance):\n",
    "            print(\"Insufficient Balance \")\n",
    "        else:\n",
    "            self.balance-=amount\n",
    "            print(\"New balance :  %f\" %self.balance)\n",
    "    def enquiry(self):\n",
    "        print(\"Balance : %f\" %self.balance) \n",
    "account=Account()\n",
    "account.deposit()\n",
    "account.withdraw()\n",
    "account.enquiry()\n"
   ]
  },
  {
   "cell_type": "code",
   "execution_count": null,
   "metadata": {},
   "outputs": [],
   "source": [
    "# 4. Write a menu driven program that keeps record of \n",
    "#books amd journals available in a library.\n",
    "class Book:\n",
    "    def __init__(self):\n",
    "        self.title=\"\"\n",
    "        self.author=\"\"\n",
    "        self.price=0\n",
    "    def read(self):\n",
    "        self.title=input(\"Enter the book title: \")\n",
    "        self.author=input(\"Enter the book Author: \")\n",
    "        self.price=float(input(\"Enter the book price: \"))\n",
    "    def display(self):\n",
    "        print(\"Title :\", self.title)\n",
    "        print(\"Author :\", self.author)\n",
    "        print(\"Price :\", self.price)\n",
    "my_books=[]\n",
    "ch='y'\n",
    "while(ch=='y'):\n",
    "    print('''\n",
    "    1. Add new book\n",
    "    2. Display books\n",
    "    ''')\n",
    "    choice=int(input(\"Enter Choice: \"))\n",
    "    if(choice==1):\n",
    "        book=Book()\n",
    "        book.read()\n",
    "        my_books.append(book)\n",
    "    elif(choice==2):\n",
    "        for i in my_books:\n",
    "            i.display()\n",
    "    else:\n",
    "        print(\"Invalid Choice\")\n",
    "    ch=input(\"Do you want to continue..\")\n",
    "print(\"Bye.... !!\")"
   ]
  },
  {
   "cell_type": "markdown",
   "metadata": {},
   "source": [
    "# FUNCTION OVERLOADING"
   ]
  },
  {
   "cell_type": "markdown",
   "metadata": {},
   "source": [
    "##### Like other languages (for example method overloading in C++) do, python does not supports method overloading. We may overload the methods but can only use the latest defined method."
   ]
  },
  {
   "cell_type": "code",
   "execution_count": null,
   "metadata": {},
   "outputs": [],
   "source": [
    "#method overloading in python\n",
    "\n",
    "class overload:\n",
    "    def add(self,a,b):\n",
    "        print(a+b)\n",
    "    def add(self,a,b,c):\n",
    "        print(a+b+c)\n",
    "o1=overload()\n",
    "#o1.add(100,20)\n",
    "print(o1.add(100,20,10))\n",
    "#python understands the last definitation of the method a+b+c\n",
    "#while calling add() method it is forced to pass three argument\n",
    "#in simple words it forget the previous definiation of method add()"
   ]
  },
  {
   "cell_type": "markdown",
   "metadata": {},
   "source": [
    "##### However we may use other implementation in python to make the same function work differently i.e. as per the arguments."
   ]
  },
  {
   "cell_type": "code",
   "execution_count": 8,
   "metadata": {},
   "outputs": [
    {
     "name": "stdout",
     "output_type": "stream",
     "text": [
      "11\n",
      "Hello Students\n",
      "12.4\n"
     ]
    }
   ],
   "source": [
    "def add(datatype, *args):\n",
    "    if datatype =='int'  or datatype=='float':\n",
    "            answer = 0\n",
    "    if datatype =='str':\n",
    "            answer =''\n",
    "\n",
    "    for x in args:\n",
    "            answer = answer + x\n",
    "    print(answer) \n",
    "# Integer \n",
    "add('int', 5, 6) \n",
    "# String \n",
    "add('str', 'Hello ', 'Students')\n",
    "#Float\n",
    "add('float', 5.2, 5.1, 2.1)"
   ]
  },
  {
   "cell_type": "markdown",
   "metadata": {},
   "source": [
    "# OPERATOR OVERLOADING\n"
   ]
  },
  {
   "cell_type": "code",
   "execution_count": 2,
   "metadata": {},
   "outputs": [
    {
     "name": "stdout",
     "output_type": "stream",
     "text": [
      "Vector (7,9)\n"
     ]
    }
   ],
   "source": [
    "class Vector:\n",
    "    def __init__(self,x,y):\n",
    "        self.x=x\n",
    "        self.y=y\n",
    "    def __add__(self,other):\n",
    "        print(\"Vector (%d,%d)\" %(self.x+other.x, \n",
    "                                 self.y+other.y))\n",
    "v1=Vector(5,6)\n",
    "v2=Vector(2,3)\n",
    "v1+v2"
   ]
  },
  {
   "cell_type": "code",
   "execution_count": null,
   "metadata": {},
   "outputs": [],
   "source": [
    "class Vector:\n",
    "    def __init__(self,x,y):\n",
    "        self.x=x\n",
    "        self.y=y\n",
    "    def __add__(self,other):\n",
    "        v= Vector(self.x+other.x, self.y+other.y)\n",
    "        return v\n",
    "    def __str__(self):\n",
    "        return (\"Vector (%d,%d) \" %(self.x,self.y))\n",
    "v1=Vector(5,6)\n",
    "v2=Vector(2,3)\n",
    "v3=Vector(1,2)\n",
    "v4=v1+v2+v3\n",
    "print(v3)\n",
    "print(v4)"
   ]
  },
  {
   "cell_type": "code",
   "execution_count": null,
   "metadata": {},
   "outputs": [],
   "source": [
    "class Time:\n",
    "    def __init__(s,h,m,sc):\n",
    "        s.hour=h\n",
    "        s.minute=m\n",
    "        s.second=sc\n",
    "    def __add__(s,o):\n",
    "        h= s.hour + o.hour\n",
    "        m= s.minute + o.minute\n",
    "        sc= s.second + o.second\n",
    "        if sc>=60:\n",
    "            m= m+ sc//60\n",
    "            sc= sc%60\n",
    "        if m>=60:\n",
    "            h= h+ m//60\n",
    "            m= m%60\n",
    "        t=Time(h,m,sc)\n",
    "        return t\n",
    "    def __str__(s):\n",
    "        return(\"Time (%d Hours, %d Minutes, %d Seconds)\"%(s.hour,s.minute,s.second))\n",
    "T1=Time(10,25,40)\n",
    "T2=Time(10,40,20)\n",
    "print(T1+T2)"
   ]
  },
  {
   "cell_type": "markdown",
   "metadata": {},
   "source": [
    "# Inheritance"
   ]
  },
  {
   "cell_type": "code",
   "execution_count": 3,
   "metadata": {},
   "outputs": [
    {
     "name": "stdout",
     "output_type": "stream",
     "text": [
      "Calling Child Method\n"
     ]
    }
   ],
   "source": [
    "class Parent:\n",
    "    def myMethod(self):\n",
    "        print(\"Calling Parent Method\")\n",
    "class Child(Parent):\n",
    "    def myMethod(self):\n",
    "        print(\"Calling Child Method\")\n",
    "c=Child()\n",
    "c.myMethod()"
   ]
  },
  {
   "cell_type": "code",
   "execution_count": 4,
   "metadata": {},
   "outputs": [
    {
     "name": "stdout",
     "output_type": "stream",
     "text": [
      "Calling Child Method\n",
      "Calling Parent Method\n"
     ]
    }
   ],
   "source": [
    "class Parent:\n",
    "    def myMethod(self):\n",
    "        print(\"Calling Parent Method\")\n",
    "class Child(Parent):\n",
    "    def myMethod(self):\n",
    "        print(\"Calling Child Method\")\n",
    "        #Parent.myMethod(self)\n",
    "        super(Child,self).myMethod()\n",
    "c=Child()\n",
    "c.myMethod()"
   ]
  },
  {
   "cell_type": "code",
   "execution_count": 9,
   "metadata": {},
   "outputs": [
    {
     "name": "stdout",
     "output_type": "stream",
     "text": [
      "D\n",
      "B\n"
     ]
    }
   ],
   "source": [
    "class A:\n",
    "    def show(self):\n",
    "        print(\"A\")\n",
    "class B(A):\n",
    "    def show(self):\n",
    "        print(\"B\")\n",
    "class C(A):\n",
    "    def show(self):\n",
    "        print(\"C\")\n",
    "        super(C,self).show()\n",
    "class D(B,C):\n",
    "    def show(self):\n",
    "        print(\"D\")\n",
    "        super(D,self).show()\n",
    "d=D()\n",
    "d.show()"
   ]
  },
  {
   "cell_type": "code",
   "execution_count": 7,
   "metadata": {},
   "outputs": [
    {
     "name": "stdout",
     "output_type": "stream",
     "text": [
      "D\n",
      "B\n",
      "C\n"
     ]
    }
   ],
   "source": [
    "class A:\n",
    "    def show(self):\n",
    "        print(\"A\")\n",
    "class B(A):\n",
    "    def show(self):\n",
    "        print(\"B\")\n",
    "        super(B,self).show()\n",
    "class C(A):\n",
    "    def show(self):\n",
    "        print(\"C\")\n",
    "        \n",
    "class D(B,C):\n",
    "    def show(self):\n",
    "        print(\"D\")\n",
    "        super(D,self).show()\n",
    "d=D()\n",
    "d.show()"
   ]
  },
  {
   "cell_type": "code",
   "execution_count": 8,
   "metadata": {},
   "outputs": [
    {
     "name": "stdout",
     "output_type": "stream",
     "text": [
      "D\n",
      "B\n",
      "C\n",
      "A\n"
     ]
    }
   ],
   "source": [
    "class A:\n",
    "    def show(self):\n",
    "        print(\"A\")\n",
    "class B(A):\n",
    "    def show(self):\n",
    "        print(\"B\")\n",
    "        super(B,self).show()\n",
    "class C(A):\n",
    "    def show(self):\n",
    "        print(\"C\")\n",
    "        super(C,self).show()\n",
    "class D(B,C):\n",
    "    def show(self):\n",
    "        print(\"D\")\n",
    "        super(D,self).show()\n",
    "d=D()\n",
    "d.show()"
   ]
  },
  {
   "cell_type": "code",
   "execution_count": null,
   "metadata": {},
   "outputs": [],
   "source": [
    "class A:\n",
    "    def show(self):\n",
    "        print(\"A\")\n",
    "class B(A):\n",
    "    def show(self):\n",
    "        print(\"B\")\n",
    "        super(B,self).show()\n",
    "class C:\n",
    "    def show(self):\n",
    "        print(\"C\")\n",
    "class D(B,C):\n",
    "    def show(self):\n",
    "        print(\"D\")\n",
    "        super(D,self).show()\n",
    "d=D()\n",
    "d.show()"
   ]
  },
  {
   "cell_type": "code",
   "execution_count": null,
   "metadata": {},
   "outputs": [],
   "source": []
  },
  {
   "cell_type": "code",
   "execution_count": null,
   "metadata": {},
   "outputs": [],
   "source": []
  }
 ],
 "metadata": {
  "kernelspec": {
   "display_name": "Python 3",
   "language": "python",
   "name": "python3"
  },
  "language_info": {
   "codemirror_mode": {
    "name": "ipython",
    "version": 3
   },
   "file_extension": ".py",
   "mimetype": "text/x-python",
   "name": "python",
   "nbconvert_exporter": "python",
   "pygments_lexer": "ipython3",
   "version": "3.7.3"
  }
 },
 "nbformat": 4,
 "nbformat_minor": 2
}
